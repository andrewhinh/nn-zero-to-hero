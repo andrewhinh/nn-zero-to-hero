{
 "cells": [
  {
   "cell_type": "markdown",
   "metadata": {},
   "source": [
    "# Pytorch Internals\n",
    "http://blog.ezyang.com/2019/05/pytorch-internals/"
   ]
  },
  {
   "cell_type": "markdown",
   "metadata": {},
   "source": [
    "# Exercises"
   ]
  },
  {
   "cell_type": "code",
   "execution_count": 5,
   "metadata": {},
   "outputs": [
    {
     "name": "stdout",
     "output_type": "stream",
     "text": [
      "torch.Size([546, 3]) torch.Size([546])\n",
      "torch.Size([73, 3]) torch.Size([73])\n",
      "torch.Size([65, 3]) torch.Size([65])\n"
     ]
    }
   ],
   "source": [
    "import torch\n",
    "import torch.nn.functional as F\n",
    "import matplotlib.pyplot as plt\n",
    "%matplotlib inline\n",
    "\n",
    "# read in all the words\n",
    "words = open('../names.txt', 'r').read().splitlines()\n",
    "words = words[:100]\n",
    "words[:8]\n",
    "\n",
    "# build the vocabulary of characters and mappings to/from integers\n",
    "chars = sorted(set(list(\"\".join(words))))\n",
    "stoi = {ch: i+1 for i, ch in enumerate(chars)}\n",
    "stoi['.'] = 0\n",
    "itos = {i: ch for ch, i in stoi.items()}\n",
    "\n",
    "# build the dataset\n",
    "block_size = 3  # context length: how many characters do we take to predict the next one?\n",
    "\n",
    "def build_dataset(words):\n",
    "    X, Y = [], []\n",
    "    for w in words:\n",
    "        context = [0] * block_size\n",
    "        for ch in w + '.':\n",
    "            ix = stoi[ch]\n",
    "            X.append(context)\n",
    "            Y.append(ix)\n",
    "            context = context[1:] + [ix]\n",
    "    \n",
    "    X = torch.tensor(X)\n",
    "    Y = torch.tensor(Y)\n",
    "    print(X.shape, Y.shape)\n",
    "    return X, Y\n",
    "\n",
    "import random\n",
    "random.seed(42)\n",
    "random.shuffle(words)\n",
    "\n",
    "n1 = int(0.8*len(words))\n",
    "n2 = int(0.9*len(words))\n",
    "\n",
    "Xtr, Ytr = build_dataset(words[:n1])\n",
    "Xdev, Ydev = build_dataset(words[n1:n2])\n",
    "Xte, Yte = build_dataset(words[n2:])"
   ]
  },
  {
   "cell_type": "code",
   "execution_count": 2,
   "metadata": {},
   "outputs": [
    {
     "data": {
      "text/plain": [
       "10281"
      ]
     },
     "execution_count": 2,
     "metadata": {},
     "output_type": "execute_result"
    }
   ],
   "source": [
    "seed = 2147483647\n",
    "inp = 27\n",
    "emb_sz = 2\n",
    "hidden = 300\n",
    "out = 27\n",
    "\n",
    "g = torch.Generator().manual_seed(seed)\n",
    "\n",
    "C = torch.randn((inp, emb_sz), generator=g)\n",
    "W1 = torch.randn((emb_sz * block_size, hidden), generator=g)\n",
    "b1 = torch.randn((hidden), generator=g)\n",
    "W2 = torch.randn((hidden, out), generator=g)\n",
    "b2 = torch.randn((out), generator=g)\n",
    "\n",
    "parameters = [C, W1, b1, W2, b2]\n",
    "for p in parameters:\n",
    "    p.requires_grad = True\n",
    "\n",
    "sum(p.nelement() for p in parameters)"
   ]
  },
  {
   "cell_type": "markdown",
   "metadata": {},
   "source": [
    "E01: Tune the hyperparameters of the training to beat my best validation loss of 2.2"
   ]
  },
  {
   "cell_type": "code",
   "execution_count": 3,
   "metadata": {},
   "outputs": [
    {
     "name": "stdout",
     "output_type": "stream",
     "text": [
      "25.907936096191406\n"
     ]
    }
   ],
   "source": [
    "def forward(X, Y, epochs=1, bs=32, lr=0.1):\n",
    "    for _ in range(epochs):\n",
    "        ix = torch.randint(0, X.shape[0], (bs,), generator=g)\n",
    "\n",
    "        emb = C[X[ix]]\n",
    "        h = torch.tanh(emb.view(-1, emb_sz * block_size) @ W1 + b1)\n",
    "        logits = h @ W2 + b2\n",
    "        loss = F.cross_entropy(logits, Y[ix])\n",
    "        print(loss.item())\n",
    "        \n",
    "        for p in parameters:\n",
    "            p.grad = None\n",
    "        loss.backward()\n",
    "\n",
    "        for p in parameters:\n",
    "            p.data += -lr * p.grad\n",
    "\n",
    "forward(Xtr, Ytr, epochs=10)"
   ]
  },
  {
   "cell_type": "markdown",
   "metadata": {},
   "source": [
    "E02: I was not careful with the intialization of the network in this video. (1) What is the loss you'd get if the predicted probabilities at initialization were perfectly uniform? What loss do we achieve? (2) Can you tune the initialization to get a starting loss that is much more similar to (1)?"
   ]
  },
  {
   "cell_type": "code",
   "execution_count": 3,
   "metadata": {},
   "outputs": [
    {
     "data": {
      "text/plain": [
       "tensor(3.2958)"
      ]
     },
     "execution_count": 3,
     "metadata": {},
     "output_type": "execute_result"
    }
   ],
   "source": [
    "probs = torch.ones((Ytr.shape[0], out))\n",
    "probs = torch.softmax(probs, dim=1)\n",
    "loss = F.cross_entropy(probs, Ytr)\n",
    "loss"
   ]
  },
  {
   "cell_type": "code",
   "execution_count": 4,
   "metadata": {},
   "outputs": [
    {
     "data": {
      "text/plain": [
       "10281"
      ]
     },
     "execution_count": 4,
     "metadata": {},
     "output_type": "execute_result"
    }
   ],
   "source": [
    "seed = 2147483647\n",
    "inp = 27\n",
    "emb_sz = 2\n",
    "hidden = 300\n",
    "out = 27\n",
    "\n",
    "g = torch.Generator().manual_seed(seed)\n",
    "\n",
    "C = torch.empty((inp, emb_sz))\n",
    "W1 = torch.empty((emb_sz * block_size, hidden))\n",
    "b1 = torch.empty((hidden))\n",
    "W2 = torch.empty((hidden, out))\n",
    "b2 = torch.empty((out))\n",
    "\n",
    "parameters = [C, W1, b1, W2, b2]\n",
    "for p in parameters:\n",
    "    torch.nn.init.uniform_(p, generator=g)\n",
    "    p.requires_grad = True\n",
    "\n",
    "sum(p.nelement() for p in parameters)"
   ]
  },
  {
   "cell_type": "markdown",
   "metadata": {},
   "source": [
    "E03: Read the Bengio et al 2003 paper (link above), implement and try any idea from the paper. Did it work?"
   ]
  },
  {
   "cell_type": "code",
   "execution_count": null,
   "metadata": {},
   "outputs": [],
   "source": [
    "# propagate for subset of chars\n",
    "\n",
    "subset = ['a', 'e', 'i', 'o', 'u']\n",
    "\n",
    "def forward(X, Y, epochs=1, bs=32, lr=0.1):\n",
    "    for _ in range(epochs):\n",
    "        ix = torch.randint(0, X.shape[0], (bs,), generator=g)\n",
    "\n",
    "        emb = C[X[ix]]\n",
    "        h = torch.tanh(emb.view(-1, emb_sz * block_size) @ W1 + b1)\n",
    "        logits = h @ W2 + b2\n",
    "        loss = F.cross_entropy(logits, Y[ix])\n",
    "        print(loss.item())\n",
    "\n",
    "        if set(Y[ix]).intersection(subset):\n",
    "            print(\"Subset found!\")\n",
    "        \n",
    "            for p in parameters:\n",
    "                p.grad = None\n",
    "            loss.backward()\n",
    "\n",
    "            for p in parameters:\n",
    "                p.data += -lr * p.grad\n",
    "\n",
    "forward(Xtr, Ytr, epochs=10)"
   ]
  }
 ],
 "metadata": {
  "kernelspec": {
   "display_name": "Python 3",
   "language": "python",
   "name": "python3"
  },
  "language_info": {
   "codemirror_mode": {
    "name": "ipython",
    "version": 3
   },
   "file_extension": ".py",
   "mimetype": "text/x-python",
   "name": "python",
   "nbconvert_exporter": "python",
   "pygments_lexer": "ipython3",
   "version": "3.11.9"
  }
 },
 "nbformat": 4,
 "nbformat_minor": 2
}
